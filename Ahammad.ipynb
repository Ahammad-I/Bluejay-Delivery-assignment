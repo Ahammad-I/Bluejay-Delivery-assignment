{
  "nbformat": 4,
  "nbformat_minor": 0,
  "metadata": {
    "colab": {
      "provenance": []
    },
    "kernelspec": {
      "name": "python3",
      "display_name": "Python 3"
    },
    "language_info": {
      "name": "python"
    }
  },
  "cells": [
    {
      "cell_type": "code",
      "execution_count": 34,
      "metadata": {
        "colab": {
          "base_uri": "https://localhost:8080/"
        },
        "id": "J0zmSl7T0MC8",
        "outputId": "10705294-7a83-4f0b-cfcc-482cae1a9681"
      },
      "outputs": [
        {
          "output_type": "stream",
          "name": "stdout",
          "text": [
            "Drive already mounted at /content/drive; to attempt to forcibly remount, call drive.mount(\"/content/drive\", force_remount=True).\n"
          ]
        }
      ],
      "source": [
        "from google.colab import drive\n",
        "drive.mount('/content/drive')\n"
      ]
    },
    {
      "cell_type": "code",
      "source": [
        "pip install pandas"
      ],
      "metadata": {
        "colab": {
          "base_uri": "https://localhost:8080/"
        },
        "id": "-DYg3KxV8l-L",
        "outputId": "00ddc92b-cc85-44aa-9467-de87b7a0c680"
      },
      "execution_count": 35,
      "outputs": [
        {
          "output_type": "stream",
          "name": "stdout",
          "text": [
            "Requirement already satisfied: pandas in /usr/local/lib/python3.10/dist-packages (1.5.3)\n",
            "Requirement already satisfied: python-dateutil>=2.8.1 in /usr/local/lib/python3.10/dist-packages (from pandas) (2.8.2)\n",
            "Requirement already satisfied: pytz>=2020.1 in /usr/local/lib/python3.10/dist-packages (from pandas) (2023.3.post1)\n",
            "Requirement already satisfied: numpy>=1.21.0 in /usr/local/lib/python3.10/dist-packages (from pandas) (1.23.5)\n",
            "Requirement already satisfied: six>=1.5 in /usr/local/lib/python3.10/dist-packages (from python-dateutil>=2.8.1->pandas) (1.16.0)\n"
          ]
        }
      ]
    },
    {
      "cell_type": "code",
      "source": [
        " import pandas as pd\n",
        "import requests\n",
        "import io\n",
        "\n",
        "# Define the URL of the XLSX file\n",
        "xlsx_url = 'https://docs.google.com/spreadsheets/d/1mmKTye9dCq15F1SD1pzYwH-CPDW_5jLWY9rnM8vM-1I/gviz/tq?tqx=out:csv'\n",
        "\n",
        "# Send a GET request to fetch the XLSX data\n",
        "response = requests.get(xlsx_url)\n",
        "\n",
        "if response.status_code == 200:\n",
        "    # Read the XLSX data into a DataFrame\n",
        "    df = pd.read_csv(io.StringIO(response.text))\n",
        "\n",
        "    # Now you can work with the 'df' DataFrame as needed.\n",
        "    print(df.head())\n",
        "else:\n",
        "    print(f\"Failed to retrieve the XLSX file. Status code: {response.status_code}\")\n"
      ],
      "metadata": {
        "colab": {
          "base_uri": "https://localhost:8080/"
        },
        "id": "_zEE3ME42rCF",
        "outputId": "26d4175f-8232-43f7-ba22-eb9afc7ab57c"
      },
      "execution_count": 40,
      "outputs": [
        {
          "output_type": "stream",
          "name": "stdout",
          "text": [
            "  Position ID Position Status                 Time            Time Out  \\\n",
            "0   WFS000054          Active                  NaN                 NaN   \n",
            "1   WFS000065          Active  09/12/2023 10:08 AM  09/12/2023 1:53 PM   \n",
            "2   WFS000065          Active   09/12/2023 2:23 PM  09/12/2023 7:02 PM   \n",
            "3   WFS000065          Active  09/13/2023 10:08 AM  09/13/2023 2:20 PM   \n",
            "4   WFS000065          Active   09/13/2023 2:50 PM  09/13/2023 8:44 PM   \n",
            "\n",
            "  Timecard Hours (as Time) Pay Cycle Start Date Pay Cycle End Date  \\\n",
            "0                      NaN                  NaN                NaN   \n",
            "1                     3:45           09/10/2023         09/23/2023   \n",
            "2                     4:39           09/10/2023         09/23/2023   \n",
            "3                     4:12           09/10/2023         09/23/2023   \n",
            "4                     5:54           09/10/2023         09/23/2023   \n",
            "\n",
            "     Employee Name  File Number  \n",
            "0  SiWgh, PraGhjEM           54  \n",
            "1  REsaXiaWE, XAis           65  \n",
            "2  REsaXiaWE, XAis           65  \n",
            "3  REsaXiaWE, XAis           65  \n",
            "4  REsaXiaWE, XAis           65  \n"
          ]
        }
      ]
    },
    {
      "cell_type": "code",
      "source": [],
      "metadata": {
        "id": "1XVJQINC8j1V"
      },
      "execution_count": 44,
      "outputs": []
    },
    {
      "cell_type": "code",
      "source": [
        "import pandas as pd\n",
        "\n",
        "# Read the Google Sheets data into a DataFrame (replace 'your_data.csv' with your actual file path)\n",
        "data = pd.read_csv('https://docs.google.com/spreadsheets/d/1mmKTye9dCq15F1SD1pzYwH-CPDW_5jLWY9rnM8vM-1I/gviz/tq?tqx=out:csv')\n",
        "\n",
        "# Ensure that the 'Time' column is in datetime format\n",
        "data['Time'] = pd.to_datetime(data['Time'])\n",
        "data['Time Out'] = pd.to_datetime(data['Time Out'])\n",
        "\n",
        "# Sort the DataFrame by 'Employee Name' and 'Time' for better analysis\n",
        "data.sort_values(['Employee Name', 'Time'], inplace=True)\n",
        "\n",
        "# Initialize counters for each condition\n",
        "consecutive_workdays_count = 0\n",
        "less_than_10_hours_count = 0\n",
        "more_than_14_hours_count = 0\n",
        "\n",
        "# Initialize variables to track consecutive workdays and previous record for each employee\n",
        "consecutive_workdays = 0\n",
        "prev_record = None\n",
        "\n",
        "# Iterate over the records in the DataFrame\n",
        "for index, row in data.iterrows():\n",
        "    # Check if the employee name has changed\n",
        "    if prev_record is None or prev_record['Employee Name'] != row['Employee Name']:\n",
        "        consecutive_workdays = 0\n",
        "    else:\n",
        "        # Calculate the time difference between consecutive shifts for the same employee\n",
        "        time_diff_hours = (row['Time'] - prev_record['Time Out']).total_seconds() / 3600\n",
        "\n",
        "        # Condition a) Employees who have worked for 7 consecutive days\n",
        "        if consecutive_workdays >= 6:\n",
        "            consecutive_workdays_count += 1\n",
        "\n",
        "        # Condition b) Employees with less than 10 hours between shifts but more than 1 hour\n",
        "        if 1 < time_diff_hours < 10:\n",
        "            less_than_10_hours_count += 1\n",
        "\n",
        "        # Condition c) Employees who have worked for more than 14 hours in a single shift\n",
        "        if row['Timecard Hours (as Time)'] > '14:00':\n",
        "            more_than_14_hours_count += 1\n",
        "\n",
        "    prev_record = row\n",
        "    consecutive_workdays += 1\n",
        "\n",
        "# Print the counts for each condition\n",
        "print(f\"Employees who have worked for 7 consecutive days: {consecutive_workdays_count}\")\n",
        "print(f\"Employees with less than 10 hours between shifts but more than 1 hour: {less_than_10_hours_count}\")\n",
        "print(f\"Employees who have worked for more than 14 hours in a single shift: {more_than_14_hours_count}\")\n"
      ],
      "metadata": {
        "colab": {
          "base_uri": "https://localhost:8080/"
        },
        "id": "mYjgJg21Km9i",
        "outputId": "c4a290ad-23c6-4a3a-aa13-b3cef1bcc317"
      },
      "execution_count": 44,
      "outputs": [
        {
          "output_type": "stream",
          "name": "stdout",
          "text": [
            "Employees who have worked for 7 consecutive days: 907\n",
            "Employees with less than 10 hours between shifts but more than 1 hour: 11\n",
            "Employees who have worked for more than 14 hours in a single shift: 1352\n"
          ]
        }
      ]
    },
    {
      "cell_type": "code",
      "source": [],
      "metadata": {
        "id": "YRQJrNAU8fsq"
      },
      "execution_count": null,
      "outputs": []
    }
  ]
}